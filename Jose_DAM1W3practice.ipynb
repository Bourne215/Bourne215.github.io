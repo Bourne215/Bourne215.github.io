{
  "cells": [
    {
      "cell_type": "markdown",
      "metadata": {
        "id": "view-in-github",
        "colab_type": "text"
      },
      "source": [
        "<a href=\"https://colab.research.google.com/github/Bourne215/Bourne215.github.io/blob/main/Jose_DAM1W3practice.ipynb\" target=\"_parent\"><img src=\"https://colab.research.google.com/assets/colab-badge.svg\" alt=\"Open In Colab\"/></a>"
      ]
    },
    {
      "cell_type": "markdown",
      "id": "e114a1af",
      "metadata": {
        "id": "e114a1af"
      },
      "source": [
        "# Python Fundamentals: Collaborative Code Along!\n",
        "\n",
        "### Here’s how it works:\n",
        "- Each person must complete **at least one** code cell by the end.\n",
        "- The person **sharing their screen and typing** is the one \"in the hot seat\" for that round.\n",
        "- After finishing your turn, **you get to pick who goes next**!\n",
        "- You can **pass your turn once**- but be ready to go later.\n",
        "- **Everyone should be coding along** with the class using a split screen, second monitor, or tab.\n",
        "- **Working together is encouraged!** Talk through your thinking and everyone contribute!\n",
        "- **Googling is totally allowed**- nobody is expected to memorize everything.\n",
        "- If a question feels too hard, the class can **vote to skip it and come back later**.\n"
      ]
    },
    {
      "cell_type": "code",
      "execution_count": null,
      "id": "33a9e1ca",
      "metadata": {
        "id": "33a9e1ca"
      },
      "outputs": [],
      "source": [
        "import lesson_3"
      ]
    },
    {
      "cell_type": "code",
      "execution_count": null,
      "id": "bced01b1",
      "metadata": {
        "id": "bced01b1",
        "colab": {
          "base_uri": "https://localhost:8080/"
        },
        "outputId": "3ebc5652-25d4-4550-81b1-67075dc5f22e"
      },
      "outputs": [
        {
          "output_type": "stream",
          "name": "stdout",
          "text": [
            "<class 'dict'>\n"
          ]
        }
      ],
      "source": [
        "# Given this variable:\n",
        "human = lesson_3.human\n",
        "# Print the variable type: (hint: use function type())\n",
        "print(type(human))"
      ]
    },
    {
      "cell_type": "code",
      "execution_count": null,
      "id": "b5b3e419",
      "metadata": {
        "id": "b5b3e419",
        "colab": {
          "base_uri": "https://localhost:8080/"
        },
        "outputId": "5c8128b2-c9e1-4cc6-d366-1925cd670db9"
      },
      "outputs": [
        {
          "output_type": "stream",
          "name": "stdout",
          "text": [
            "dict_keys(['pet', 'pet_name', 'favorite_color', 'music_taste', 'favorite_sport', 'father_name', 'bank_account_balance', 'mother_name', 'friends_list', 'favorite_text', 'profession', 'country_of_birth', 'favorite_number', 'human_first_name', 'Mary_Oliver_poem', 'known_for', 'height_cm', 'date_of_birth', 'human_last_name'])\n"
          ]
        }
      ],
      "source": [
        "# Exercise 1\n",
        "# What information is on the variable? (hint: .keys() method, print() function)\n",
        "print(human.keys())"
      ]
    },
    {
      "cell_type": "code",
      "execution_count": null,
      "id": "c2d9dac9",
      "metadata": {
        "id": "c2d9dac9",
        "colab": {
          "base_uri": "https://localhost:8080/"
        },
        "outputId": "7407c24a-bef8-4bca-f38b-7ffdbce0b1ac"
      },
      "outputs": [
        {
          "output_type": "stream",
          "name": "stdout",
          "text": [
            "Ada\n"
          ]
        }
      ],
      "source": [
        "# Exercise 2\n",
        "# What is the human first name? (please print)\n",
        "print(human['human_first_name'])"
      ]
    },
    {
      "cell_type": "code",
      "execution_count": null,
      "id": "a3d5ccee",
      "metadata": {
        "id": "a3d5ccee",
        "colab": {
          "base_uri": "https://localhost:8080/"
        },
        "outputId": "aeb537ca-d6b3-4c85-c55a-a2668de3a1f9"
      },
      "outputs": [
        {
          "output_type": "stream",
          "name": "stdout",
          "text": [
            "Lovelace\n"
          ]
        }
      ],
      "source": [
        "# Exercise 3\n",
        "# What is the human last name? (please print)\n",
        "print(human['human_last_name'])\n"
      ]
    },
    {
      "cell_type": "code",
      "execution_count": null,
      "id": "949ae59f",
      "metadata": {
        "id": "949ae59f",
        "colab": {
          "base_uri": "https://localhost:8080/"
        },
        "outputId": "577b88e7-bcbb-487d-cd6f-9d4041ee120c"
      },
      "outputs": [
        {
          "output_type": "stream",
          "name": "stdout",
          "text": [
            "Ada Lovelace\n"
          ]
        }
      ],
      "source": [
        "# Exercise 4\n",
        "# Create a variable with the human first and last name and print it\n",
        "full_name = human['human_first_name'] + ' ' + human['human_last_name']\n",
        "\n",
        "print(full_name)"
      ]
    },
    {
      "cell_type": "code",
      "source": [
        "# Exercise 5\n",
        "# Use the `len()` function to count the number of letters in human 'favorite_text'\n",
        "len(human['favorite_text'])"
      ],
      "metadata": {
        "id": "JG7E76gyACs6",
        "colab": {
          "base_uri": "https://localhost:8080/"
        },
        "outputId": "3cc7e050-fbe7-4f82-b39c-f886427b0b50"
      },
      "id": "JG7E76gyACs6",
      "execution_count": null,
      "outputs": [
        {
          "output_type": "execute_result",
          "data": {
            "text/plain": [
              "445"
            ]
          },
          "metadata": {},
          "execution_count": 22
        }
      ]
    },
    {
      "cell_type": "code",
      "source": [
        "# Exercise 6\n",
        "# Print the second friend in human 'friends_list'\n",
        "my_list = ['one', [30, 40, 50, 60], 'three', 'four']\n",
        "\n",
        "\n",
        "\n",
        "print(my_list[1][2])"
      ],
      "metadata": {
        "id": "B3OkZtR9AFWK",
        "colab": {
          "base_uri": "https://localhost:8080/"
        },
        "outputId": "e56f03ab-8b14-42cf-ff37-de1241c60948"
      },
      "id": "B3OkZtR9AFWK",
      "execution_count": null,
      "outputs": [
        {
          "output_type": "stream",
          "name": "stdout",
          "text": [
            "50\n"
          ]
        }
      ]
    },
    {
      "cell_type": "code",
      "execution_count": null,
      "id": "64e95771",
      "metadata": {
        "id": "64e95771",
        "colab": {
          "base_uri": "https://localhost:8080/"
        },
        "outputId": "9d5f81da-ed19-460a-9bcb-f5115fee77b7"
      },
      "outputs": [
        {
          "output_type": "stream",
          "name": "stdout",
          "text": [
            "Full list: [33, 40, 29, 330, 84, 77]\n",
            "Only even numbers: [40, 330, 84]\n"
          ]
        }
      ],
      "source": [
        "# Exercise 7\n",
        "# Write a function called 'Only_even_numbers' that accepts a list and returns a new list with only the even numbers.\n",
        "# Write function here:\n",
        "def Only_even_numbers(numbers: list):\n",
        "    result_list = []\n",
        "    for number in numbers:\n",
        "      if number % 2 == 0:\n",
        "        result_list.append(number)\n",
        "    return result_list\n",
        "\n",
        "\n",
        "# result:\n",
        "list_of_numbers = [33, 40, 29, 330, 84, 77]\n",
        "print(f'Full list: {list_of_numbers}')\n",
        "\n",
        "print(f'Only even numbers: {Only_even_numbers(list_of_numbers)}')\n"
      ]
    },
    {
      "cell_type": "code",
      "execution_count": null,
      "id": "25dacfa0",
      "metadata": {
        "id": "25dacfa0"
      },
      "outputs": [],
      "source": [
        "# Exercise 8\n",
        "# Ask the user for a number and use an if/elif/else chain to classify it as negative, zero, or positive."
      ]
    },
    {
      "cell_type": "code",
      "execution_count": null,
      "id": "7d592b98",
      "metadata": {
        "id": "7d592b98"
      },
      "outputs": [],
      "source": [
        "# Exercise 9\n",
        "# Create a dictionary that stores your name, eye color, and location. Print a sentence using all three dictionary values.\n",
        "def Create_student_info_str(student_features_dict: dict) -> str:\n",
        "    student_info = f\"My name is {student_features_dict['name']}, I have {student_features_dict['eye_color']} eyes and I live in {student_features_dict['location']}.\"\n",
        "    return student_info\n",
        "\n",
        "# Your code here:\n"
      ]
    },
    {
      "cell_type": "code",
      "execution_count": null,
      "id": "afa5cece",
      "metadata": {
        "id": "afa5cece"
      },
      "outputs": [],
      "source": [
        "# Exercise 10\n",
        "# Use a loop to find the first number between 1 and 100 that is divisible by 7 and 11."
      ]
    },
    {
      "cell_type": "code",
      "execution_count": null,
      "id": "f3e3ee18",
      "metadata": {
        "id": "f3e3ee18"
      },
      "outputs": [],
      "source": [
        "# Exercise 11\n",
        "# Use a `for` loop to print a right triangle of stars with 5 rows.\n",
        "# *\n",
        "# **\n",
        "# ***\n",
        "# ****\n",
        "# *****"
      ]
    },
    {
      "cell_type": "code",
      "execution_count": null,
      "id": "d7fc09e3",
      "metadata": {
        "id": "d7fc09e3"
      },
      "outputs": [],
      "source": [
        "# Exercise 12\n",
        "# Create a list of five objects and print each one with its index."
      ]
    },
    {
      "cell_type": "code",
      "execution_count": null,
      "id": "e171f939",
      "metadata": {
        "id": "e171f939"
      },
      "outputs": [],
      "source": [
        "# Exercise 13\n",
        "# Create a function that reads from a file and writes only the lines with more than 20 characters to a new file."
      ]
    },
    {
      "cell_type": "code",
      "execution_count": null,
      "id": "c33522e8",
      "metadata": {
        "id": "c33522e8"
      },
      "outputs": [],
      "source": [
        "# Exercise 14\n",
        "# Use a list comprehension to generate a list of squares from 1 to 10."
      ]
    },
    {
      "cell_type": "code",
      "execution_count": null,
      "id": "543b0a5f",
      "metadata": {
        "id": "543b0a5f"
      },
      "outputs": [],
      "source": [
        "# Exercise 15\n",
        "# write a function that uses the `.split()` method to count the number of words in a sentence."
      ]
    },
    {
      "cell_type": "code",
      "execution_count": null,
      "id": "68caf786",
      "metadata": {
        "id": "68caf786"
      },
      "outputs": [],
      "source": [
        "# Exercise 16\n",
        "# Define a function that takes a name and prints a greeting like 'Hello, <name>!'"
      ]
    },
    {
      "cell_type": "code",
      "execution_count": null,
      "id": "a8bf50b2",
      "metadata": {
        "id": "a8bf50b2"
      },
      "outputs": [],
      "source": [
        "# Exercise 17\n",
        "# Import the `random` module and print a random number between 1 and 10."
      ]
    },
    {
      "cell_type": "code",
      "execution_count": null,
      "id": "0af34b08",
      "metadata": {
        "id": "0af34b08"
      },
      "outputs": [],
      "source": [
        "# Exercise 18\n",
        "# Try to open a file that doesn’t exist using try/except. Print a custom error message."
      ]
    },
    {
      "cell_type": "code",
      "execution_count": null,
      "id": "de1348ef",
      "metadata": {
        "id": "de1348ef"
      },
      "outputs": [],
      "source": [
        "# Exercise 19\n",
        "# Import `datetime` and print today’s date in YYYY-MM-DD format."
      ]
    },
    {
      "cell_type": "code",
      "execution_count": null,
      "id": "bc3eb9b2",
      "metadata": {
        "id": "bc3eb9b2"
      },
      "outputs": [],
      "source": [
        "# Exercise 20\n",
        "# Write a function that returns True if a number is prime."
      ]
    },
    {
      "cell_type": "code",
      "execution_count": null,
      "id": "3dd8c3a9",
      "metadata": {
        "id": "3dd8c3a9"
      },
      "outputs": [],
      "source": [
        "# Exercise 21\n",
        "# Write a while loop that doubles a number starting at 1 until it reaches 1000."
      ]
    },
    {
      "cell_type": "code",
      "execution_count": null,
      "id": "bfccda95",
      "metadata": {
        "id": "bfccda95"
      },
      "outputs": [],
      "source": [
        "# Exercise 22\n",
        "# Open a file called 'data.txt' and write the numbers 1 through 5, one per line."
      ]
    },
    {
      "cell_type": "code",
      "execution_count": null,
      "id": "b7fc3a0d",
      "metadata": {
        "id": "b7fc3a0d"
      },
      "outputs": [],
      "source": [
        "# Exercise 23\n",
        "# Create a dictionary with 3 key-value pairs and print each key and value using a loop."
      ]
    },
    {
      "cell_type": "code",
      "execution_count": null,
      "id": "13db1709",
      "metadata": {
        "id": "13db1709"
      },
      "outputs": [],
      "source": [
        "# Exercise 24\n",
        "# Write a function that returns the factorial of a number using a loop (not recursion). (recall, factorial is: 3! = 3*2*1 and 6! = 6*5*4*3*2*1)"
      ]
    },
    {
      "cell_type": "code",
      "execution_count": null,
      "id": "2d3fc92d",
      "metadata": {
        "id": "2d3fc92d"
      },
      "outputs": [],
      "source": [
        "# Exercise 25\n",
        "# Use a loop to calculate the sum of the numbers from 1 to 100."
      ]
    },
    {
      "cell_type": "code",
      "execution_count": null,
      "id": "0dd30ca9",
      "metadata": {
        "id": "0dd30ca9"
      },
      "outputs": [],
      "source": [
        "# Exercise 26\n",
        "# Create two strings and check if they are anagrams (words with the same letters that are rearranged)- you can use sort and then compare."
      ]
    },
    {
      "cell_type": "code",
      "execution_count": null,
      "id": "2ce802b0",
      "metadata": {
        "id": "2ce802b0"
      },
      "outputs": [],
      "source": [
        "# Exercise 27\n",
        "# Write a program that reads a list of numbers and prints their average."
      ]
    },
    {
      "cell_type": "code",
      "execution_count": null,
      "id": "cca848de",
      "metadata": {
        "id": "cca848de"
      },
      "outputs": [],
      "source": [
        "# Exercise 28\n",
        "# Use try/except to handle user input and ensure they enter a valid float."
      ]
    },
    {
      "cell_type": "code",
      "execution_count": null,
      "id": "1070b55a",
      "metadata": {
        "id": "1070b55a"
      },
      "outputs": [],
      "source": [
        "# Exercise 29\n",
        "# Write code that opens a file called 'sample.txt', counts the number of words, and prints the result."
      ]
    },
    {
      "cell_type": "code",
      "execution_count": null,
      "id": "a1e3aad5",
      "metadata": {
        "id": "a1e3aad5"
      },
      "outputs": [],
      "source": [
        "# Exercise 30\n",
        "# Create a function that takes a string and returns it reversed."
      ]
    },
    {
      "cell_type": "code",
      "execution_count": null,
      "id": "40c0de57",
      "metadata": {
        "id": "40c0de57"
      },
      "outputs": [],
      "source": [
        "# Exercise 31\n",
        "# Define a variable, reassign it a new value, and print both values (using two print statements)."
      ]
    },
    {
      "cell_type": "code",
      "execution_count": null,
      "id": "28b079b8",
      "metadata": {
        "id": "28b079b8"
      },
      "outputs": [],
      "source": [
        "# Exercise 32\n",
        "# Create a function that returns True if a given string is a palindrome (the same forward and backward), ignoring any punctuation or spaces. hint: you can use isalpha()"
      ]
    }
  ],
  "metadata": {
    "kernelspec": {
      "display_name": "Python 3",
      "language": "python",
      "name": "python3"
    },
    "language_info": {
      "codemirror_mode": {
        "name": "ipython",
        "version": 3
      },
      "file_extension": ".py",
      "mimetype": "text/x-python",
      "name": "python",
      "nbconvert_exporter": "python",
      "pygments_lexer": "ipython3",
      "version": "3.13.5"
    },
    "colab": {
      "provenance": [],
      "include_colab_link": true
    }
  },
  "nbformat": 4,
  "nbformat_minor": 5
}